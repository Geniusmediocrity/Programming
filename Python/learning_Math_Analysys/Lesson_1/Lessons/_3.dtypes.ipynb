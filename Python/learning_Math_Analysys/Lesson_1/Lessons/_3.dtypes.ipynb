{
 "cells": [
  {
   "cell_type": "code",
   "execution_count": 2,
   "id": "2053b4b1",
   "metadata": {},
   "outputs": [],
   "source": [
    "import pandas as pd"
   ]
  },
  {
   "cell_type": "code",
   "execution_count": 3,
   "id": "9ef0001e",
   "metadata": {},
   "outputs": [],
   "source": [
    "df = pd.read_csv(\"../data/data.csv\", encoding=\"Windows-1251\")"
   ]
  },
  {
   "cell_type": "code",
   "execution_count": 4,
   "id": "c8efd8b2",
   "metadata": {},
   "outputs": [],
   "source": [
    "pd.set_option(\"display.float_format\", \"{:.2f}\".format)\n",
    "pd.set_option(\"display.max_columns\", 40)\n",
    "\n",
    "our_cols = ['DR_Dat', 'DR_Tim', 'DR_NChk', 'DR_NDoc', 'DR_Apt', 'DR_NDrugs', 'DR_Kol',\n",
    "       'DR_CZak', 'DR_CRoz', 'DR_SDisc', 'DR_TPay', 'DR_CDrugs', 'DR_Suppl', 'DR_CDisc', 'DR_BCDisc', 'DR_TabEmpl', 'DR_VZak', 'DR_Pos']\n",
    "df = df[our_cols]\n",
    "df.columns = ['dt', 'c_time', 'nchk', 'ndoc', 'apt', 'drug', 'kol',\n",
    "       'zak', 'roz', 'disc', 'pay_type', 'drug_id', 'suppl', 'disc_id', 'disc_barcode', 'empl', 'vzak', 'pos']"
   ]
  },
  {
   "cell_type": "code",
   "execution_count": 5,
   "id": "9d6d375d",
   "metadata": {},
   "outputs": [
    {
     "data": {
      "text/plain": [
       "dtype('float64')"
      ]
     },
     "execution_count": 5,
     "metadata": {},
     "output_type": "execute_result"
    }
   ],
   "source": [
    "df[\"disc_barcode\"].dtype"
   ]
  },
  {
   "cell_type": "code",
   "execution_count": 6,
   "id": "a64c5bcb",
   "metadata": {},
   "outputs": [
    {
     "data": {
      "text/plain": [
       "dtype('O')"
      ]
     },
     "execution_count": 6,
     "metadata": {},
     "output_type": "execute_result"
    }
   ],
   "source": [
    "#? изменяем тип столбца \"disc_barcode\":\n",
    "#TODO df[\"disc_barcode\"] = df[\"disc_barcode\"].astype('str').replace(r\"\\.0\", \"\", regex=True)\n",
    "\"\"\"Однако Pandas выдает предупреждение, потому что он не уверен, \n",
    "работаете ли вы с оригинальным DataFrame или с его копией. \n",
    "Это может привести к непредсказуемому поведению, если изменения применяются к \n",
    "временной копии, а не к исходному DataFrame.\"\"\"\n",
    "df[\"disc_barcode\"] = df.loc[:, [\"disc_barcode\"]].astype(\"str\").replace(r\"\\.0\", \"\", regex=True)\n",
    "df[\"disc_barcode\"].dtype #? object = str"
   ]
  },
  {
   "cell_type": "code",
   "execution_count": 7,
   "id": "86e6eb3e",
   "metadata": {},
   "outputs": [],
   "source": [
    "pd.to_datetime(df[\"dt\"]).dt.year #? .dt вытаскивает дату | .year вытаскивает год\n",
    "# dt.strftime() приводит дату в новый формат\n",
    "df[\"dt\"] = pd.to_datetime(df[\"dt\"]).dt.strftime(\"%d.%m.%Y\")"
   ]
  },
  {
   "cell_type": "code",
   "execution_count": 8,
   "id": "bdca1ca0",
   "metadata": {},
   "outputs": [
    {
     "data": {
      "text/plain": [
       "0       стандартный\n",
       "1       стандартный\n",
       "2       стандартный\n",
       "3       стандартный\n",
       "4       стандартный\n",
       "           ...     \n",
       "4457    стандартный\n",
       "4458    стандартный\n",
       "4459    стандартный\n",
       "4460    стандартный\n",
       "4461    стандартный\n",
       "Name: vzak, Length: 4462, dtype: object"
      ]
     },
     "execution_count": 8,
     "metadata": {},
     "output_type": "execute_result"
    }
   ],
   "source": [
    "# 1 - стандартный\n",
    "# 2 - интернет аптека\n",
    "df[\"vzak\"] = df[\"vzak\"].astype(\"str\").replace(\"1\", \"стандартный\").replace(\"2\", \"интернет-магазин\")\n",
    "df[\"vzak\"]"
   ]
  }
 ],
 "metadata": {
  "kernelspec": {
   "display_name": "venv",
   "language": "python",
   "name": "python3"
  },
  "language_info": {
   "codemirror_mode": {
    "name": "ipython",
    "version": 3
   },
   "file_extension": ".py",
   "mimetype": "text/x-python",
   "name": "python",
   "nbconvert_exporter": "python",
   "pygments_lexer": "ipython3",
   "version": "3.13.2"
  }
 },
 "nbformat": 4,
 "nbformat_minor": 5
}
