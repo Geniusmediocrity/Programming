{
 "cells": [
  {
   "cell_type": "code",
   "execution_count": 2,
   "id": "e2b408d7",
   "metadata": {},
   "outputs": [],
   "source": [
    "import pandas as pd"
   ]
  },
  {
   "cell_type": "code",
   "execution_count": 18,
   "id": "62e0dc1b",
   "metadata": {},
   "outputs": [],
   "source": [
    "df = pd.read_csv(\"../data/data.csv\", encoding=\"Windows-1251\")"
   ]
  },
  {
   "cell_type": "code",
   "execution_count": 19,
   "id": "02a41983",
   "metadata": {},
   "outputs": [],
   "source": [
    "pd.set_option(\"display.max_columns\", 40)\n",
    "\n",
    "our_cols = ['DR_Dat', 'DR_Tim', 'DR_NChk', 'DR_NDoc', 'DR_Apt', 'DR_NDrugs', 'DR_Kol',\n",
    "       'DR_CZak', 'DR_CRoz', 'DR_SDisc', 'DR_TPay', 'DR_CDrugs', 'DR_Suppl', 'DR_CDisc', 'DR_BCDisc', 'DR_TabEmpl', 'DR_VZak', 'DR_Pos']\n",
    "df = df[our_cols]\n",
    "\n",
    "df.columns = ['dt', 'c_time', 'nchk', 'ndoc', 'apt', 'drug', 'kol',\n",
    "       'zak', 'roz', 'disc', 'pay_type', 'drug_id', 'suppl', 'disc_id', 'disc_barcode', 'empl', 'vzak', 'pos']"
   ]
  },
  {
   "cell_type": "code",
   "execution_count": 24,
   "id": "b7c27779",
   "metadata": {},
   "outputs": [],
   "source": [
    "df[\"disc_barcode\"] = df.loc[:, [\"disc_barcode\"]].fillna(0).astype(\"int\")\n",
    "df[\"vzak\"] = df[\"vzak\"].astype(\"str\").replace(\"1\", \"стандартный\").replace(\"2\", \"интернет-магазин\")"
   ]
  },
  {
   "cell_type": "code",
   "execution_count": 25,
   "id": "c4366c5c",
   "metadata": {},
   "outputs": [
    {
     "data": {
      "text/plain": [
       "0       925\n",
       "1         9\n",
       "2         9\n",
       "3         9\n",
       "4       925\n",
       "       ... \n",
       "4457      0\n",
       "4458      0\n",
       "4459      0\n",
       "4460      0\n",
       "4461      9\n",
       "Name: disc_id, Length: 4462, dtype: int64"
      ]
     },
     "execution_count": 25,
     "metadata": {},
     "output_type": "execute_result"
    }
   ],
   "source": [
    "df['disc_id'] = df['disc_id'].fillna(0).astype(\"int64\")\n",
    "df['disc_id']"
   ]
  },
  {
   "cell_type": "code",
   "execution_count": null,
   "id": "9cc81df7",
   "metadata": {},
   "outputs": [
    {
     "data": {
      "text/plain": [
       "array([False, False, False, False, False, False, False, False, False,\n",
       "       False, False, False, False, False, False, False, False, False])"
      ]
     },
     "execution_count": 30,
     "metadata": {},
     "output_type": "execute_result"
    }
   ],
   "source": [
    "df.isna().values.any(axis=0)\n",
    "# values - создает из df.isna() булев масив\n",
    "# axis где: (1 - y) | (0 - x)"
   ]
  },
  {
   "cell_type": "code",
   "execution_count": 40,
   "id": "c1ac4d50",
   "metadata": {},
   "outputs": [],
   "source": [
    "df_2 = pd.read_csv(\"../data/data.csv\", encoding=\"Windows-1251\")\n",
    "\n",
    "pd.set_option(\"display.float_format\", \"{:.0f}\".format)"
   ]
  },
  {
   "cell_type": "code",
   "execution_count": 43,
   "id": "660a647b",
   "metadata": {},
   "outputs": [
    {
     "data": {
      "text/plain": [
       "0      925\n",
       "1        9\n",
       "2        9\n",
       "3        9\n",
       "4      925\n",
       "        ..\n",
       "4457     7\n",
       "4458     6\n",
       "4459     6\n",
       "4460     6\n",
       "4461     9\n",
       "Name: DR_CDisc, Length: 4462, dtype: float64"
      ]
     },
     "execution_count": 43,
     "metadata": {},
     "output_type": "execute_result"
    }
   ],
   "source": [
    "# interpolate - интерполенция\n",
    "df_2[\"DR_CDisc\"].interpolate(method=\"cubic\")"
   ]
  },
  {
   "cell_type": "code",
   "execution_count": 51,
   "id": "633d9ea0",
   "metadata": {},
   "outputs": [
    {
     "name": "stdout",
     "output_type": "stream",
     "text": [
      "До удаления пустых значений: (4462, 21)\n",
      "Удаление строк с пропусками: (1765, 21)\n",
      "Удаление стобцов с пропусками: (4462, 19)\n"
     ]
    }
   ],
   "source": [
    "print(f\"До удаления пустых значений: {df_2.shape}\")\n",
    "print(f\"Удаление строк с пропусками: {df_2.dropna().shape}\") #? Удаляет все строки с пропусками\n",
    "print(f\"Удаление стобцов с пропусками: {df_2.dropna(axis=1).shape}\") #? Удаляет все столбцы с пропусками"
   ]
  }
 ],
 "metadata": {
  "kernelspec": {
   "display_name": "venv",
   "language": "python",
   "name": "python3"
  },
  "language_info": {
   "codemirror_mode": {
    "name": "ipython",
    "version": 3
   },
   "file_extension": ".py",
   "mimetype": "text/x-python",
   "name": "python",
   "nbconvert_exporter": "python",
   "pygments_lexer": "ipython3",
   "version": "3.13.2"
  }
 },
 "nbformat": 4,
 "nbformat_minor": 5
}
