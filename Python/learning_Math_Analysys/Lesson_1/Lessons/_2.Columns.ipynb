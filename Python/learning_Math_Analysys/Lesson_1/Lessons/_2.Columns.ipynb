{
 "cells": [
  {
   "cell_type": "code",
   "execution_count": 2,
   "id": "2219a8a9",
   "metadata": {},
   "outputs": [],
   "source": [
    "import pandas as pd"
   ]
  },
  {
   "cell_type": "code",
   "execution_count": 1,
   "id": "6eae9424",
   "metadata": {},
   "outputs": [
    {
     "ename": "NameError",
     "evalue": "name 'pd' is not defined",
     "output_type": "error",
     "traceback": [
      "\u001b[31m---------------------------------------------------------------------------\u001b[39m",
      "\u001b[31mNameError\u001b[39m                                 Traceback (most recent call last)",
      "\u001b[36mCell\u001b[39m\u001b[36m \u001b[39m\u001b[32mIn[1]\u001b[39m\u001b[32m, line 1\u001b[39m\n\u001b[32m----> \u001b[39m\u001b[32m1\u001b[39m df = \u001b[43mpd\u001b[49m.read_csv(\u001b[33m\"\u001b[39m\u001b[33m../../data/data.csv\u001b[39m\u001b[33m\"\u001b[39m, encoding=\u001b[33m\"\u001b[39m\u001b[33mWindows-1251\u001b[39m\u001b[33m\"\u001b[39m)\n",
      "\u001b[31mNameError\u001b[39m: name 'pd' is not defined"
     ]
    }
   ],
   "source": [
    "df = pd.read_csv(\"../../data/data.csv\", encoding=\"Windows-1251\")"
   ]
  },
  {
   "cell_type": "code",
   "execution_count": 10,
   "id": "f93b4e17",
   "metadata": {},
   "outputs": [],
   "source": [
    "pd.set_option(\"display.float_format\", \"{:.2f}\".format)\n",
    "pd.set_option(\"display.max_columns\", 40)"
   ]
  },
  {
   "cell_type": "code",
   "execution_count": 8,
   "id": "62eed235",
   "metadata": {},
   "outputs": [
    {
     "name": "stdout",
     "output_type": "stream",
     "text": [
      "shape = (4462, 21)\n",
      "size = 93702\n",
      "index = RangeIndex(start=0, stop=4462, step=1)\n",
      "columns = Index(['DR_Dat', 'DR_Tim', 'DR_NChk', 'DR_NDoc', 'DR_Apt', 'DR_Kkm', 'DR_TDoc',\n",
      "       'DR_TPay', 'DR_CDrugs', 'DR_NDrugs', 'DR_Suppl', 'DR_Prod', 'DR_Kol',\n",
      "       'DR_CZak', 'DR_CRoz', 'DR_SDisc', 'DR_CDisc', 'DR_BCDisc', 'DR_TabEmpl',\n",
      "       'DR_VZak', 'DR_Pos'],\n",
      "      dtype='object')\n"
     ]
    }
   ],
   "source": [
    "shape = df.shape #? размерность DataFrame\n",
    "size = df.size #? количсетво элементов DataFrame\n",
    "index = df.index #? что из себя представляет индекс\n",
    "columns = df.columns #? колонки DataFrame (labels)\n",
    "print(f\"{shape = }\")\n",
    "print(f\"{size = }\")\n",
    "print(f\"{index = }\")\n",
    "print(f\"{columns = }\")"
   ]
  },
  {
   "cell_type": "code",
   "execution_count": 9,
   "id": "6f17c7f4",
   "metadata": {},
   "outputs": [],
   "source": [
    "our_cols = ['DR_Dat', 'DR_Tim', 'DR_NChk', 'DR_NDoc', 'DR_Apt', 'DR_NDrugs', 'DR_Kol',\n",
    "            'DR_CZak', 'DR_CRoz', 'DR_SDisc', 'DR_TPay', 'DR_CDrugs', 'DR_Suppl', \n",
    "            'DR_CDisc', 'DR_BCDisc', 'DR_TabEmpl', 'DR_VZak', 'DR_Pos']"
   ]
  },
  {
   "cell_type": "code",
   "execution_count": 11,
   "id": "1c9171b7",
   "metadata": {},
   "outputs": [],
   "source": [
    "df = df[our_cols]"
   ]
  },
  {
   "cell_type": "code",
   "execution_count": 13,
   "id": "ebdd4fb3",
   "metadata": {},
   "outputs": [],
   "source": [
    "df.columns = ['dt', 'c_time', 'nchk', 'ndoc', 'apt', 'drug', 'kol',\n",
    "              'zak', 'roz', 'disc', 'pay_type', 'drug_id', 'suppl', \n",
    "              'disc_id', 'disc_barcode', 'empl', 'vzak', 'pos']"
   ]
  }
 ],
 "metadata": {
  "kernelspec": {
   "display_name": "venv",
   "language": "python",
   "name": "python3"
  },
  "language_info": {
   "codemirror_mode": {
    "name": "ipython",
    "version": 3
   },
   "file_extension": ".py",
   "mimetype": "text/x-python",
   "name": "python",
   "nbconvert_exporter": "python",
   "pygments_lexer": "ipython3",
   "version": "3.13.2"
  }
 },
 "nbformat": 4,
 "nbformat_minor": 5
}
