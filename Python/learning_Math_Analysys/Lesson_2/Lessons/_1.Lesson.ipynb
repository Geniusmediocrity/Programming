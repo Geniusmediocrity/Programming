{
 "cells": [
  {
   "cell_type": "code",
   "execution_count": 1,
   "id": "f96e9d4d",
   "metadata": {},
   "outputs": [],
   "source": [
    "import pandas as pd"
   ]
  },
  {
   "cell_type": "code",
   "execution_count": 17,
   "id": "b0edf7fb",
   "metadata": {},
   "outputs": [],
   "source": [
    "df = pd.read_csv(\"../../data/data.csv\", encoding=\"Windows-1251\")"
   ]
  },
  {
   "cell_type": "code",
   "execution_count": 18,
   "id": "d6689e87",
   "metadata": {},
   "outputs": [],
   "source": [
    "pd.set_option(\"display.max_columns\", 40)"
   ]
  },
  {
   "cell_type": "code",
   "execution_count": 19,
   "id": "a3117cef",
   "metadata": {},
   "outputs": [],
   "source": [
    "our_cols = ['DR_Dat', 'DR_Tim', 'DR_NChk', 'DR_NDoc', 'DR_Apt', 'DR_NDrugs', 'DR_Kol',\n",
    "            'DR_CZak', 'DR_CRoz', 'DR_SDisc', 'DR_TPay', 'DR_CDrugs', 'DR_Suppl', \n",
    "            'DR_CDisc', 'DR_BCDisc', 'DR_TabEmpl', 'DR_VZak', 'DR_Pos']\n",
    "df = df[our_cols]\n",
    "df.columns = ['dt', 'c_time', 'nchk', 'ndoc', 'apt', 'drug', 'kol',\n",
    "              'zak', 'roz', 'disc', 'pay_type', 'drug_id', 'suppl', \n",
    "              'disc_id', 'disc_barcode', 'empl', 'vzak', 'pos']"
   ]
  },
  {
   "cell_type": "code",
   "execution_count": 20,
   "id": "89a21992",
   "metadata": {},
   "outputs": [
    {
     "data": {
      "text/plain": [
       "dt              False\n",
       "c_time          False\n",
       "nchk            False\n",
       "ndoc            False\n",
       "apt             False\n",
       "drug            False\n",
       "kol             False\n",
       "zak             False\n",
       "roz             False\n",
       "disc            False\n",
       "pay_type        False\n",
       "drug_id         False\n",
       "suppl           False\n",
       "disc_id         False\n",
       "disc_barcode    False\n",
       "empl            False\n",
       "vzak            False\n",
       "pos             False\n",
       "dtype: bool"
      ]
     },
     "execution_count": 20,
     "metadata": {},
     "output_type": "execute_result"
    }
   ],
   "source": [
    "df = df.fillna(0)\n",
    "df.isna().any()\n"
   ]
  },
  {
   "cell_type": "code",
   "execution_count": 21,
   "id": "e18f867f",
   "metadata": {},
   "outputs": [
    {
     "name": "stdout",
     "output_type": "stream",
     "text": [
      "<class 'pandas.core.frame.DataFrame'>\n",
      "RangeIndex: 4462 entries, 0 to 4461\n",
      "Data columns (total 18 columns):\n",
      " #   Column        Non-Null Count  Dtype  \n",
      "---  ------        --------------  -----  \n",
      " 0   dt            4462 non-null   object \n",
      " 1   c_time        4462 non-null   object \n",
      " 2   nchk          4462 non-null   int64  \n",
      " 3   ndoc          4462 non-null   int64  \n",
      " 4   apt           4462 non-null   int64  \n",
      " 5   drug          4462 non-null   object \n",
      " 6   kol           4462 non-null   float64\n",
      " 7   zak           4462 non-null   float64\n",
      " 8   roz           4462 non-null   float64\n",
      " 9   disc          4462 non-null   float64\n",
      " 10  pay_type      4462 non-null   int64  \n",
      " 11  drug_id       4462 non-null   int64  \n",
      " 12  suppl         4462 non-null   object \n",
      " 13  disc_id       4462 non-null   float64\n",
      " 14  disc_barcode  4462 non-null   float64\n",
      " 15  empl          4462 non-null   int64  \n",
      " 16  vzak          4462 non-null   int64  \n",
      " 17  pos           4462 non-null   float64\n",
      "dtypes: float64(7), int64(7), object(4)\n",
      "memory usage: 627.6+ KB\n"
     ]
    }
   ],
   "source": [
    "df.info()"
   ]
  }
 ],
 "metadata": {
  "kernelspec": {
   "display_name": "venv",
   "language": "python",
   "name": "python3"
  },
  "language_info": {
   "codemirror_mode": {
    "name": "ipython",
    "version": 3
   },
   "file_extension": ".py",
   "mimetype": "text/x-python",
   "name": "python",
   "nbconvert_exporter": "python",
   "pygments_lexer": "ipython3",
   "version": "3.13.2"
  }
 },
 "nbformat": 4,
 "nbformat_minor": 5
}
