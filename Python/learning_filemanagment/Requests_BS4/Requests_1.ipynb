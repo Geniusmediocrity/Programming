{
 "cells": [
  {
   "cell_type": "markdown",
   "metadata": {},
   "source": [
    "    Виды запросов:\n",
    "    GET - запрос данных сервера\n",
    "    POST - отправка данных на сервер\n",
    "    HEAD - запрос только заголовков данных сервера\n",
    "    PUT - отправка и размещение новых ресурсов на сервер\n",
    "    DELETE - удаление данных на сервере\n",
    "    OPTIONS - запрос информации о сервере\n",
    "    PATCH - внесение частичных изменений"
   ]
  },
  {
   "cell_type": "code",
   "execution_count": 61,
   "metadata": {},
   "outputs": [],
   "source": [
    "import requests"
   ]
  },
  {
   "cell_type": "code",
   "execution_count": 34,
   "metadata": {},
   "outputs": [],
   "source": [
    "url_games='https://soccer365.ru/competitions/12/results/'\n",
    "get_request = requests.get(url_games, timeout=10, params=None, headers=None, data=None)"
   ]
  },
  {
   "cell_type": "markdown",
   "metadata": {},
   "source": [
    "    GET\n",
    "    Назначение: Запрос данных с сервера (получение информации).\n",
    "    Синтаксис:\n",
    "            response = requests.get(url, params=None, headers=None, timeout=None)\n",
    "    Параметры:\n",
    "            params: Словарь или строка параметров URL (например, ?key=value).\n",
    "            headers: Заголовки HTTP-запроса.\n",
    "            timeout: Максимальное время ожидания ответа.\n",
    "    Пример:\n",
    "            response = requests.get(\"https://api.example.com/data\", params={\"id\": 1})\n",
    "    Когда использовать: Для получения данных (например, загрузка страницы, API-запрос)."
   ]
  },
  {
   "cell_type": "code",
   "execution_count": 35,
   "metadata": {},
   "outputs": [
    {
     "name": "stdout",
     "output_type": "stream",
     "text": [
      "Satatus code: 200\n",
      "Headers: text/html; charset=UTF-8\n",
      "Encoding: UTF-8\n",
      "<!DOCTYPE html>\n",
      "<html lang=\"ru\" prefix=\"og: http://ogp.me/ns#\">\n",
      "<head>\n",
      "\t<script>!function(){var e=0,i=screen.width,t=parseInt(document.cookie.replace(/(?:(?:^|.*;\\s*)device_type\\s*\\=\\s*([^;]*).*$)|^.*$/,\"$1\"));if(!t)return!1;screen.height<i&&(i=screen.height),(e=i<500?2:screen.width>=1280?1:3)!=t&&(document.cookie=\"device_type=\"+e+\";path=/;expires=\"+new Date(+new Date+12096e5).toGMTString(),document.location.reload())}();</script><title>Англия - Премьер-Лига 2024/2025 | Результаты - Soccer365</t\n"
     ]
    }
   ],
   "source": [
    "print(f\"Satatus code: {get_request.status_code}\")\n",
    "print(f\"Headers: {get_request.headers[\"content-type\"]}\")    #  Мы можем просмотреть заголовки ответа сервера, используя словарь\n",
    "print(f\"Encoding: {get_request.encoding}\")\n",
    "print(get_request.text[:500])"
   ]
  },
  {
   "cell_type": "markdown",
   "metadata": {},
   "source": [
    "    POST\n",
    "    Назначение: Отправка данных на сервер (создание или обновление ресурса).\n",
    "    Синтаксис:\n",
    "            response = requests.post(url, data=None, json=None, headers=None)\n",
    "    Параметры:\n",
    "            data: Данные формы (отправляются как application/x-www-form-urlencoded).\n",
    "            json: JSON-данные (автоматически устанавливает заголовок Content-Type: application/json).\n",
    "    Пример:\n",
    "            response = requests.post(\"https://api.example.com/create\", json={\"name\": \"John\"})\n",
    "    Когда использовать: Для отправки данных (регистрация, отправка файла, API-запросы на создание)."
   ]
  },
  {
   "cell_type": "code",
   "execution_count": 39,
   "metadata": {},
   "outputs": [
    {
     "name": "stdout",
     "output_type": "stream",
     "text": [
      "<Response [200]>\n"
     ]
    }
   ],
   "source": [
    "response = requests.post(url=url_games, json={\"name\": \"Alex\"}, data=None, headers=None)\n",
    "print(response)"
   ]
  },
  {
   "cell_type": "markdown",
   "metadata": {},
   "source": [
    "    PUT\n",
    "    Назначение: Полное обновление существующего ресурса.\n",
    "    Синтаксис:\n",
    "            response = requests.put(url, data=None, json=None)\n",
    "    Особенности: Заменяет весь ресурс новыми данными.\n",
    "    Пример:\n",
    "            response = requests.put(\"https://api.example.com/user/1\", data={\"role\": \"admin\"})\n",
    "    Когда использовать: Когда нужно полностью перезаписать ресурс (например, обновление профиля)."
   ]
  },
  {
   "cell_type": "code",
   "execution_count": 40,
   "metadata": {},
   "outputs": [
    {
     "name": "stdout",
     "output_type": "stream",
     "text": [
      "<Response [200]>\n"
     ]
    }
   ],
   "source": [
    "response = requests.put(url=url_games, data={\"role\": \"admin\"}, json=None)\n",
    "print(response)"
   ]
  },
  {
   "cell_type": "markdown",
   "metadata": {},
   "source": [
    "    DELETE\n",
    "    Назначение: Удаление ресурса на сервере.\n",
    "    Синтаксис:\n",
    "            response = requests.delete(url)\n",
    "    Пример:\n",
    "            response = requests.delete(\"https://api.example.com/user/1\")\n",
    "    Когда использовать: Для удаления данных (например, удаление записи в БД)."
   ]
  },
  {
   "cell_type": "code",
   "execution_count": 50,
   "metadata": {},
   "outputs": [
    {
     "name": "stdout",
     "output_type": "stream",
     "text": [
      "<Response [200]>\n"
     ]
    }
   ],
   "source": [
    "response = requests.delete(url_games)\n",
    "print(response)"
   ]
  },
  {
   "cell_type": "markdown",
   "metadata": {},
   "source": [
    "    HEAD\n",
    "    Назначение: Получение заголовков ответа без тела (полезно для проверки наличия ресурса).\n",
    "    Синтаксис:\n",
    "            response = requests.head(url)\n",
    "    Особенности: Не возвращает тело ответа, только метаданные.\n",
    "    Пример:\n",
    "            response = requests.head(\"https://example.com\")\n",
    "            print(response.headers)  # Заголовки ответа\n",
    "    Когда использовать: Для проверки доступности ресурса или CORS-заголовков."
   ]
  },
  {
   "cell_type": "code",
   "execution_count": null,
   "metadata": {},
   "outputs": [
    {
     "name": "stdout",
     "output_type": "stream",
     "text": [
      "<class 'requests.structures.CaseInsensitiveDict'>\n"
     ]
    }
   ],
   "source": [
    "response = requests.head(url_games)\n",
    "print(response.headers)"
   ]
  },
  {
   "cell_type": "markdown",
   "metadata": {},
   "source": [
    "    PATCH\n",
    "    Назначение: Частичное обновление ресурса.\n",
    "    Синтаксис:\n",
    "            response = requests.patch(url, data=None, json=None)\n",
    "    Отличие от PUT: Обновляет только указанные поля, а не весь ресурс.\n",
    "    Пример:\n",
    "            response = requests.patch(\"https://api.example.com/user/1\", json={\"age\": 30})\n",
    "    Когда использовать: Для изменения отдельных полей (например, обновление email)."
   ]
  },
  {
   "cell_type": "code",
   "execution_count": 47,
   "metadata": {},
   "outputs": [
    {
     "name": "stdout",
     "output_type": "stream",
     "text": [
      "<Response [200]>\n"
     ]
    }
   ],
   "source": [
    "response = requests.patch(url_games, json={\"email\": None})\n",
    "print(response)"
   ]
  },
  {
   "cell_type": "markdown",
   "metadata": {},
   "source": [
    "    Обработка ответов\n",
    "    После выполнения запроса возвращается объект Response. Основные методы и свойства:\n",
    "            response.status_code: Код статуса HTTP (200, 404 и т.д.).\n",
    "            response.text: Тело ответа в виде строки.\n",
    "            response.json(): Тело ответа, преобразованное в JSON (словарь Python).\n",
    "            response.headers: Заголовки ответа.\n",
    "            response.raise_for_status(): Генерирует исключение при ошибке HTTP (4xx/5xx)."
   ]
  },
  {
   "cell_type": "code",
   "execution_count": 65,
   "metadata": {},
   "outputs": [
    {
     "name": "stdout",
     "output_type": "stream",
     "text": [
      "<Response [200]>\n",
      "None\n",
      "<Response [200]>\n"
     ]
    }
   ],
   "source": [
    "# Дополнительные возможности\n",
    "# Авторизация:\n",
    "print(requests.get(url=url_games, auth=(\"user name\", \"12345\")))\n",
    "# Куки:\n",
    "print(response.cookies.get(\"cookie_name\"))\n",
    "# Прокси:\n",
    "print(requests.get(url_games, proxies={\"http\": \"http://proxy.example.com:8080\"}))"
   ]
  }
 ],
 "metadata": {
  "kernelspec": {
   "display_name": ".venv",
   "language": "python",
   "name": "python3"
  },
  "language_info": {
   "codemirror_mode": {
    "name": "ipython",
    "version": 3
   },
   "file_extension": ".py",
   "mimetype": "text/x-python",
   "name": "python",
   "nbconvert_exporter": "python",
   "pygments_lexer": "ipython3",
   "version": "3.13.2"
  }
 },
 "nbformat": 4,
 "nbformat_minor": 2
}
