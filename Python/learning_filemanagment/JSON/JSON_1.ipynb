{
 "cells": [
  {
   "cell_type": "code",
   "execution_count": 1,
   "metadata": {},
   "outputs": [],
   "source": [
    "import json"
   ]
  },
  {
   "cell_type": "markdown",
   "metadata": {},
   "source": [
    "    Преобразование Python объектов в JSON (сериализация) - для того чтобы преобразовать данные в JSON, используется функция json.dumps()"
   ]
  },
  {
   "cell_type": "code",
   "execution_count": 5,
   "metadata": {},
   "outputs": [
    {
     "name": "stdout",
     "output_type": "stream",
     "text": [
      "{\n",
      "    \"name\": \"Alex\",\n",
      "    \"age\": 16,\n",
      "    \"is_student\": true,\n",
      "    \"courses\": [\n",
      "        \"Math\",\n",
      "        \"English\",\n",
      "        \"Informatics\"\n",
      "    ]\n",
      "}\n",
      "<class 'str'>\n"
     ]
    }
   ],
   "source": [
    "data = {\n",
    "    \"name\": \"Alex\",\n",
    "    \"age\": 16,\n",
    "    \"is_student\": True,\n",
    "    \"courses\": [\"Math\", \"English\", \"Informatics\"]\n",
    "}\n",
    "json_data = json.dumps(data, indent=4)  #?  indent -- отступы\n",
    "print(json_data)\n",
    "print(type(json_data))"
   ]
  },
  {
   "cell_type": "markdown",
   "metadata": {},
   "source": [
    "    Преобразование JSON в Python объекты (десериализация) - чтобы преобразовать строку JSON в объект Python, используется функция json.loads()"
   ]
  },
  {
   "cell_type": "code",
   "execution_count": 8,
   "metadata": {},
   "outputs": [
    {
     "name": "stdout",
     "output_type": "stream",
     "text": [
      "{'name': 'Alex', 'age': 16, 'is_student': True, 'courses': ['Math', 'English', 'Informatics']}\n",
      "<class 'dict'>\n"
     ]
    }
   ],
   "source": [
    "json_data = '{\"name\": \"Alex\", \"age\": 16, \"is_student\": true, \"courses\": [\"Math\", \"English\", \"Informatics\"]}'\n",
    "data = json.loads(json_data)\n",
    "print(data)\n",
    "print(type(data))"
   ]
  },
  {
   "cell_type": "markdown",
   "metadata": {},
   "source": [
    "    Чтение и запись JSON в файлы - можно работать с JSON не только как со строками, но и с файлами. \n",
    "    Для этого используются функции json.dump() и json.load()."
   ]
  },
  {
   "cell_type": "code",
   "execution_count": 9,
   "metadata": {},
   "outputs": [],
   "source": [
    "# Запись:\n",
    "data = {\n",
    "    \"name\": \"Alex\",\n",
    "    \"age\": 16,\n",
    "    \"is_student\": True,\n",
    "    \"courses\": [\n",
    "        \"Math\",\n",
    "        \"English\",\n",
    "        \"Informatics\"\n",
    "    ]\n",
    "}\n",
    "with open(\"JSON/data.json\", mode=\"wt\", encoding=\"utf-8\") as file:\n",
    "    json.dump(data, file, indent=4)"
   ]
  },
  {
   "cell_type": "code",
   "execution_count": 11,
   "metadata": {},
   "outputs": [
    {
     "name": "stdout",
     "output_type": "stream",
     "text": [
      "{'name': 'Alex', 'age': 16, 'is_student': True, 'courses': ['Math', 'English', 'Informatics']}\n"
     ]
    }
   ],
   "source": [
    "# Чтение:\n",
    "with open(\"JSON/data.json\", mode=\"rt\", encoding=\"utf-8\") as file:\n",
    "    data = json.load(file)\n",
    "print(data)"
   ]
  },
  {
   "cell_type": "markdown",
   "metadata": {},
   "source": [
    "    Обработка ошибок: Библиотека json также поддерживает обработку ошибок при работе с данными JSON"
   ]
  },
  {
   "cell_type": "code",
   "execution_count": null,
   "metadata": {},
   "outputs": [
    {
     "ename": "NameError",
     "evalue": "name 'json_dat' is not defined",
     "output_type": "error",
     "traceback": [
      "\u001b[31m---------------------------------------------------------------------------\u001b[39m",
      "\u001b[31mNameError\u001b[39m                                 Traceback (most recent call last)",
      "\u001b[36mCell\u001b[39m\u001b[36m \u001b[39m\u001b[32mIn[13]\u001b[39m\u001b[32m, line 12\u001b[39m\n\u001b[32m      1\u001b[39m \u001b[38;5;28;01mtry\u001b[39;00m:\n\u001b[32m      2\u001b[39m     json_data = \u001b[33m'''\u001b[39m\u001b[33m{\u001b[39m\n\u001b[32m      3\u001b[39m \u001b[33m        \u001b[39m\u001b[33m\"\u001b[39m\u001b[33mname\u001b[39m\u001b[33m\"\u001b[39m\u001b[33m: \u001b[39m\u001b[33m\"\u001b[39m\u001b[33mAlex\u001b[39m\u001b[33m\"\u001b[39m\u001b[33m, \u001b[39m\n\u001b[32m      4\u001b[39m \u001b[33m        \u001b[39m\u001b[33m\"\u001b[39m\u001b[33mage\u001b[39m\u001b[33m\"\u001b[39m\u001b[33m: 16, \u001b[39m\n\u001b[32m   (...)\u001b[39m\u001b[32m     10\u001b[39m \u001b[33m            ]\u001b[39m\n\u001b[32m     11\u001b[39m \u001b[33m        }\u001b[39m\u001b[33m'''\u001b[39m\n\u001b[32m---> \u001b[39m\u001b[32m12\u001b[39m     data = json.loads(\u001b[43mjson_dat\u001b[49m)\n\u001b[32m     13\u001b[39m     \u001b[38;5;28mprint\u001b[39m(data)\n\u001b[32m     14\u001b[39m \u001b[38;5;28;01mexcept\u001b[39;00m json.JSONDecodeError \u001b[38;5;28;01mas\u001b[39;00m e:\n",
      "\u001b[31mNameError\u001b[39m: name 'json_dat' is not defined"
     ]
    }
   ],
   "source": [
    "try:\n",
    "    json_data = '''{\n",
    "        \"name\": \"Alex\", \n",
    "        \"age\": 16, \n",
    "        \"is_student\": true, \n",
    "        \"courses\": [\n",
    "            \"Math\",\n",
    "            \"English\",\n",
    "            \"Informatics\"\n",
    "            ]\n",
    "        }'''\n",
    "    data = json.loads(json_data)\n",
    "    print(data)\n",
    "except json.JSONDecodeError as e:\n",
    "    print(f\"Ошибка декодирования JSON: {e}\")\n",
    "    "
   ]
  },
  {
   "cell_type": "markdown",
   "metadata": {},
   "source": [
    "    Дополнительные параметры\n",
    "indent — добавляет отступы для улучшения читаемости.\n",
    "\n",
    "sort_keys — если установить в True, ключи в объекте JSON будут отсортированы по алфавиту.\n",
    "\n",
    "ensure_ascii — по умолчанию установлено в True, что означает, что все символы будут экранироваться.\n",
    "Если установить в False, будут поддерживаться не-ASCII символы."
   ]
  }
 ],
 "metadata": {
  "kernelspec": {
   "display_name": ".venv",
   "language": "python",
   "name": "python3"
  },
  "language_info": {
   "codemirror_mode": {
    "name": "ipython",
    "version": 3
   },
   "file_extension": ".py",
   "mimetype": "text/x-python",
   "name": "python",
   "nbconvert_exporter": "python",
   "pygments_lexer": "ipython3",
   "version": "3.13.2"
  }
 },
 "nbformat": 4,
 "nbformat_minor": 2
}
