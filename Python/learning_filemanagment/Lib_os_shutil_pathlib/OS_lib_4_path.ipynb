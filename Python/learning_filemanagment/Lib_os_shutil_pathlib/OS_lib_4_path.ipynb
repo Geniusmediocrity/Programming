{
 "cells": [
  {
   "cell_type": "code",
   "execution_count": 14,
   "metadata": {},
   "outputs": [],
   "source": [
    "import os\n",
    "import shutil\n",
    "import pathlib\n",
    "from pathlib import Path"
   ]
  },
  {
   "cell_type": "code",
   "execution_count": 8,
   "metadata": {},
   "outputs": [],
   "source": [
    "global_path = 'c:\\\\11.Алексей\\\\Programming\\\\Python\\\\learning_filemanagment\\\\testing.py'"
   ]
  },
  {
   "cell_type": "markdown",
   "metadata": {},
   "source": [
    "                                        Методы для работы с путями                                                              \n",
    "\n",
    "Корректная обработка путей позволяет избежать ошибок, связанных с неправильным расположением файлов. \n",
    "Python предоставляет обширный функционал для работы с путями через модуль os. \n",
    "Эти инструменты позволяют преобразовывать относительные пути в абсолютные, извлекать компоненты пути и создавать новые пути.\n",
    "\n",
    "    Метод\t                                    Описание                                                                        \n",
    "    abspath()\t            Преобразует относительный путь в абсолютный, учитывая текущий каталог.                          \n",
    "    isabs()\t                    Возвращает True, если путь является абсолютным.                                                 \n",
    "    basename()\t            Возвращает имя файла без пути к нему.                                                           \n",
    "    dirname()\t            Возвращает путь к каталогу.                                                                     \n",
    "    split()\t                    Возвращает кортеж из двух элементов: пути к каталогу и названия файла.                          \n",
    "    splitdrive()\t            Разделяет путь на имя диска и остальную часть пути.                                             \n",
    "    splitext()\t            Возвращает кортеж из двух элементов: пути с названием файла без расширения и расширения файла.  \n",
    "    join()\t                    Соединяет указанные элементы пути.                                                              "
   ]
  },
  {
   "cell_type": "code",
   "execution_count": null,
   "metadata": {},
   "outputs": [
    {
     "name": "stdout",
     "output_type": "stream",
     "text": [
      "os.path.abspath(path) = 'c:\\\\11.Алексей\\\\Programming\\\\Python\\\\learning_filemanagment\\\\testing.py'\n"
     ]
    }
   ],
   "source": [
    "#? Преобразование относительного пути в абсолютный\n",
    "path = \"testing.py\"\n",
    "print(f\"{os.path.abspath(path) = }\")"
   ]
  },
  {
   "cell_type": "code",
   "execution_count": 9,
   "metadata": {},
   "outputs": [
    {
     "name": "stdout",
     "output_type": "stream",
     "text": [
      "os.path.isabs(path) = False\n",
      "os.path.isabs(global_path) = True\n"
     ]
    }
   ],
   "source": [
    "#? Проверка, является ли путь абсолютным\n",
    "path = \"testing.py\"\n",
    "print(f\"{os.path.isabs(path) = }\")\n",
    "print(f\"{os.path.isabs(global_path) = }\")"
   ]
  },
  {
   "cell_type": "code",
   "execution_count": 10,
   "metadata": {},
   "outputs": [
    {
     "name": "stdout",
     "output_type": "stream",
     "text": [
      "filename = 'testing.py'\n"
     ]
    }
   ],
   "source": [
    "#? Получение имени файла из полного пути\n",
    "filename = os.path.basename(global_path)\n",
    "print(f\"{filename = }\")"
   ]
  },
  {
   "cell_type": "code",
   "execution_count": 11,
   "metadata": {},
   "outputs": [
    {
     "name": "stdout",
     "output_type": "stream",
     "text": [
      "dirname = 'c:\\\\11.Алексей\\\\Programming\\\\Python\\\\learning_filemanagment'\n"
     ]
    }
   ],
   "source": [
    "#? Получение директории из полного пути\n",
    "dirname = os.path.dirname(global_path)\n",
    "print(f\"{dirname = }\")"
   ]
  },
  {
   "cell_type": "code",
   "execution_count": 12,
   "metadata": {},
   "outputs": [
    {
     "name": "stdout",
     "output_type": "stream",
     "text": [
      "catalog: c:\\11.Алексей\\Programming\\Python\\learning_filemanagment\n",
      "file: testing.py\n"
     ]
    }
   ],
   "source": [
    "#? Разделение пути на каталог и имя файла\n",
    "catalog, filename = os.path.split(global_path)\n",
    "print(f\"catalog: {catalog}\")\n",
    "print(f\"file: {filename}\")"
   ]
  },
  {
   "cell_type": "code",
   "execution_count": 13,
   "metadata": {},
   "outputs": [
    {
     "name": "stdout",
     "output_type": "stream",
     "text": [
      "Диск: c:\n",
      "Остальной путь: \\11.Алексей\\Programming\\Python\\learning_filemanagment\\testing.py\n"
     ]
    }
   ],
   "source": [
    "#? Разделение пути на диск и остальную часть пути\n",
    "drive, path_without_drive = os.path.splitdrive(global_path)\n",
    "print(f\"Диск: {drive}\")\n",
    "print(f\"Остальной путь: {path_without_drive}\")"
   ]
  },
  {
   "cell_type": "code",
   "execution_count": 17,
   "metadata": {},
   "outputs": [
    {
     "name": "stdout",
     "output_type": "stream",
     "text": [
      "File: c:\\11.Алексей\\Programming\\Python\\learning_filemanagment\\testing\n",
      "Suffix: .py\n",
      "full filename: testing.py\n",
      "filename without suffix: testing\n",
      "Suffix: .py\n"
     ]
    }
   ],
   "source": [
    "#? Разделение имени файла и его расширения\n",
    "filename, suffix = os.path.splitext(global_path)\n",
    "print(f\"File: {filename}\")\n",
    "print(f\"Suffix: {suffix}\")\n",
    "# or\n",
    "local_path = Path(\"testing.py\")\n",
    "print(f\"full filename: {local_path.name}\")\n",
    "print(f\"filename without suffix: {local_path.stem}\")\n",
    "print(f\"Suffix: {local_path.suffix}\")"
   ]
  },
  {
   "cell_type": "code",
   "execution_count": 18,
   "metadata": {},
   "outputs": [
    {
     "name": "stdout",
     "output_type": "stream",
     "text": [
      "file = 'c:11.Алексей\\\\Programming\\\\Python\\\\learning_filemanagment\\\\testing'\n"
     ]
    }
   ],
   "source": [
    "file = os.path.join(\"c:\", \"11.Алексей\", \"Programming\", \"Python\", \"learning_filemanagment\", \"testing\")\n",
    "print(f\"{file = }\")"
   ]
  },
  {
   "cell_type": "markdown",
   "metadata": {},
   "source": [
    "                                    Методы для работы с каталогами                          \n",
    "При разработке программ на Python часто требуется управлять каталогами: создавать новые папки, изменять текущий рабочий каталог, получать список файлов или рекурсивно обходить дерево каталогов. Python предоставляет набор встроенных методов в модуле os для удобной работы с каталогами. Эти методы позволяют выполнять основные операции, такие как создание, изменение и просмотр содержимого каталогов.\n",
    "                    \n",
    "    Метод\t                            Описание                                            \n",
    "    getcwd()\t            Возвращает текущий рабочий каталог.                         \n",
    "    chdir(path)\t            Делает указанный каталог текущим.                           \n",
    "    mkdir(path)\t            Создает новый каталог с правами доступа.                    \n",
    "    listdir(path)\t            Возвращает список объектов в указанном каталоге.            \n",
    "    walk(top)\t            Позволяет рекурсивно обойти дерево каталогов.               "
   ]
  },
  {
   "cell_type": "code",
   "execution_count": 19,
   "metadata": {},
   "outputs": [
    {
     "name": "stdout",
     "output_type": "stream",
     "text": [
      "Current working directory: c:\\11.Алексей\\Programming\\Python\\learning_filemanagment\n"
     ]
    }
   ],
   "source": [
    "print(f\"Current working directory: {os.getcwd()}\")"
   ]
  },
  {
   "cell_type": "code",
   "execution_count": 28,
   "metadata": {},
   "outputs": [
    {
     "name": "stdout",
     "output_type": "stream",
     "text": [
      "c:\\11.Алексей\n",
      "c:\\11.Алексей\\Programming\\Python\\learning_filemanagment\n"
     ]
    }
   ],
   "source": [
    "os.chdir(\"c:/11.Алексей\")\n",
    "print(os.getcwd())\n",
    "os.chdir(\"c:/11.Алексей/Programming/Python/learning_filemanagment\")\n",
    "print(os.getcwd())"
   ]
  },
  {
   "cell_type": "code",
   "execution_count": 30,
   "metadata": {},
   "outputs": [
    {
     "name": "stdout",
     "output_type": "stream",
     "text": [
      ".venv\n",
      "bin_files.py\n",
      "constrains.txt\n",
      "events.txt\n",
      "events_days.py\n",
      "expect.txt\n",
      "figure\n",
      "figure_testing.py\n",
      "files.py\n",
      "file_1.txt\n",
      "learning_filemanagment\n",
      "my_json.json\n",
      "OS_lib_2_rmtree.py\n",
      "OS_lib_3_enviroments.py\n",
      "OS_lib_4_path.ipynb\n",
      "OS_lib_basic.py\n",
      "OS_Shutil_libs.py\n",
      "out.bin\n",
      "out_2.bin\n",
      "PathLib_02_mk.py\n",
      "PathLib_lib_01.py\n",
      "Photo.jpeg\n",
      "quadratic\n",
      "requirements.txt\n",
      "testing.py\n",
      "test_dir\n",
      "txt_files\n",
      "__pycache__\n"
     ]
    }
   ],
   "source": [
    "print(*(os.listdir()), sep=\"\\n\")"
   ]
  },
  {
   "cell_type": "code",
   "execution_count": null,
   "metadata": {},
   "outputs": [
    {
     "name": "stdout",
     "output_type": "stream",
     "text": [
      "14783\n"
     ]
    }
   ],
   "source": [
    "counter = 0\n",
    "for root, dirs, files in os.walk(os.getcwd()):\n",
    "    print(f\"\"\"Root: {root}\n",
    "    dirs: {dirs}\n",
    "        files: {files}\"\"\")\n",
    "    counter += len(files)\n",
    "print(counter)"
   ]
  }
 ],
 "metadata": {
  "kernelspec": {
   "display_name": ".venv",
   "language": "python",
   "name": "python3"
  },
  "language_info": {
   "codemirror_mode": {
    "name": "ipython",
    "version": 3
   },
   "file_extension": ".py",
   "mimetype": "text/x-python",
   "name": "python",
   "nbconvert_exporter": "python",
   "pygments_lexer": "ipython3",
   "version": "3.13.2"
  }
 },
 "nbformat": 4,
 "nbformat_minor": 2
}
